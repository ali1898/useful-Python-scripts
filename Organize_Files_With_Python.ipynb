{
 "cells": [
  {
   "cell_type": "markdown",
   "id": "996980a3",
   "metadata": {},
   "source": [
    "**Organize Files With Python:**"
   ]
  },
  {
   "cell_type": "code",
   "execution_count": 13,
   "id": "c74a076d",
   "metadata": {},
   "outputs": [],
   "source": [
    "import os\n",
    "import shutil"
   ]
  },
  {
   "cell_type": "code",
   "execution_count": 26,
   "id": "5e7ffdfc",
   "metadata": {},
   "outputs": [],
   "source": [
    "target_folder = \"./\"\n",
    "extensions = {item.split('.')[-1] for item in os.listdir(target_folder) if os.path.isfile(os.path.join(target_folder, item))}"
   ]
  },
  {
   "cell_type": "code",
   "execution_count": 27,
   "id": "6b905e9e",
   "metadata": {},
   "outputs": [],
   "source": [
    "# create folders for each extension type\n",
    "for extension in extensions:\n",
    "    if not os.path.exists(os.path.join(target_folder, extension)):\n",
    "        os.makedirs(os.path.join(target_folder, extension))\n",
    "        \n",
    "# move files\n",
    "for item in os.listdir(target_folder):\n",
    "    if os.path.isfile(os.path.join(target_folder, item)):\n",
    "        file_extension = item.split('.')[-1]\n",
    "        shutil.move(os.path.join(target_folder, item), os.path.join(target_folder, file_extension, item))"
   ]
  },
  {
   "cell_type": "code",
   "execution_count": null,
   "id": "4abf4211",
   "metadata": {},
   "outputs": [],
   "source": []
  }
 ],
 "metadata": {
  "kernelspec": {
   "display_name": "Python 3 (ipykernel)",
   "language": "python",
   "name": "python3"
  },
  "language_info": {
   "codemirror_mode": {
    "name": "ipython",
    "version": 3
   },
   "file_extension": ".py",
   "mimetype": "text/x-python",
   "name": "python",
   "nbconvert_exporter": "python",
   "pygments_lexer": "ipython3",
   "version": "3.9.13"
  }
 },
 "nbformat": 4,
 "nbformat_minor": 5
}
