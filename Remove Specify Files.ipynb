{
 "cells": [
  {
   "cell_type": "markdown",
   "id": "c85b18cf",
   "metadata": {},
   "source": [
    "# Import library "
   ]
  },
  {
   "cell_type": "code",
   "execution_count": 2,
   "id": "e06edb2f",
   "metadata": {},
   "outputs": [],
   "source": [
    "import os"
   ]
  },
  {
   "cell_type": "markdown",
   "id": "6c6a00f7",
   "metadata": {},
   "source": [
    "# Get directory address to search"
   ]
  },
  {
   "cell_type": "code",
   "execution_count": null,
   "id": "a306eb2d",
   "metadata": {},
   "outputs": [],
   "source": [
    "dir_address = input(\"Enter your address: \")"
   ]
  },
  {
   "cell_type": "markdown",
   "id": "057e9826",
   "metadata": {},
   "source": [
    "# Create list of extensions & Create list of files"
   ]
  },
  {
   "cell_type": "code",
   "execution_count": 3,
   "id": "b6e88c7d",
   "metadata": {},
   "outputs": [],
   "source": [
    "extension_list = []\n",
    "filesList = []"
   ]
  },
  {
   "cell_type": "markdown",
   "id": "6592c319",
   "metadata": {},
   "source": [
    "# Searching in folder and subfolders"
   ]
  },
  {
   "cell_type": "code",
   "execution_count": null,
   "id": "32bfd35c",
   "metadata": {},
   "outputs": [],
   "source": [
    "for (path, folders, files) in os.walk(dir_address):\n",
    "    filePaths = [\n",
    "        os.path.join(path, file)\n",
    "        for file in files\n",
    "    ]\n",
    "    filesList.extend(filePaths)"
   ]
  },
  {
   "cell_type": "markdown",
   "id": "7519ef31",
   "metadata": {},
   "source": [
    "# Get all file extensions to removing"
   ]
  },
  {
   "cell_type": "code",
   "execution_count": null,
   "id": "6ad8ebe3",
   "metadata": {},
   "outputs": [],
   "source": [
    "while True:\n",
    "    extension = input('Enter your extension that you want delete or use \"q\" to exit: ')\n",
    "    extension_list.append(extension)\n",
    "    if extension == 'q':\n",
    "        break"
   ]
  },
  {
   "cell_type": "markdown",
   "id": "204ac285",
   "metadata": {},
   "source": [
    "# Removing the specify  files"
   ]
  },
  {
   "cell_type": "code",
   "execution_count": null,
   "id": "d8802b23",
   "metadata": {},
   "outputs": [],
   "source": [
    "for file in filesList:\n",
    "    for item in extension_list:\n",
    "        if file.endswith(item):\n",
    "            print(\">> \", file)\n",
    "            os.remove(os.path.join(file))"
   ]
  }
 ],
 "metadata": {
  "kernelspec": {
   "display_name": "Python 3 (ipykernel)",
   "language": "python",
   "name": "python3"
  },
  "language_info": {
   "codemirror_mode": {
    "name": "ipython",
    "version": 3
   },
   "file_extension": ".py",
   "mimetype": "text/x-python",
   "name": "python",
   "nbconvert_exporter": "python",
   "pygments_lexer": "ipython3",
   "version": "3.9.13"
  }
 },
 "nbformat": 4,
 "nbformat_minor": 5
}
