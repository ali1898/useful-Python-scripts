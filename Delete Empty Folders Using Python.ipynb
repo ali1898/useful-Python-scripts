{
 "cells": [
  {
   "cell_type": "markdown",
   "id": "8fbf6c55",
   "metadata": {},
   "source": [
    "**Delete Empty Folders Using Python:**"
   ]
  },
  {
   "cell_type": "code",
   "execution_count": 1,
   "id": "432f7446",
   "metadata": {},
   "outputs": [],
   "source": [
    "import os"
   ]
  },
  {
   "cell_type": "code",
   "execution_count": 2,
   "id": "bc97ceea",
   "metadata": {},
   "outputs": [],
   "source": [
    "working_dir = os.getcwd()"
   ]
  },
  {
   "cell_type": "code",
   "execution_count": 3,
   "id": "0276dbfe",
   "metadata": {},
   "outputs": [],
   "source": [
    "for item in os.listdir(working_dir):\n",
    "    # check if an item is a file or a folder\n",
    "    if not os.path.isfile(os.path.join(working_dir, item)):\n",
    "        # check if a folder is empty\n",
    "        if not os.listdir(os.path.join(working_dir, item)):\n",
    "            os.chmod(os.path.join(working_dir, item), 0o777)\n",
    "            os.rmdir(os.path.join(working_dir, item))"
   ]
  },
  {
   "cell_type": "code",
   "execution_count": null,
   "id": "c228b5de",
   "metadata": {},
   "outputs": [],
   "source": []
  }
 ],
 "metadata": {
  "kernelspec": {
   "display_name": "Python 3 (ipykernel)",
   "language": "python",
   "name": "python3"
  },
  "language_info": {
   "codemirror_mode": {
    "name": "ipython",
    "version": 3
   },
   "file_extension": ".py",
   "mimetype": "text/x-python",
   "name": "python",
   "nbconvert_exporter": "python",
   "pygments_lexer": "ipython3",
   "version": "3.9.13"
  }
 },
 "nbformat": 4,
 "nbformat_minor": 5
}
