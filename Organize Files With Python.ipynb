{
 "cells": [
  {
   "cell_type": "markdown",
   "id": "996980a3",
   "metadata": {},
   "source": [
    "**Organize Files With Python:**"
   ]
  },
  {
   "cell_type": "code",
   "execution_count": 1,
   "id": "c74a076d",
   "metadata": {},
   "outputs": [],
   "source": [
    "import os\n",
    "import shutil"
   ]
  },
  {
   "cell_type": "code",
   "execution_count": 10,
   "id": "5e7ffdfc",
   "metadata": {},
   "outputs": [
    {
     "name": "stdout",
     "output_type": "stream",
     "text": [
      "Enter Path: D:\\JupyterNotebook\\DataRoadMapMona\n"
     ]
    }
   ],
   "source": [
    "path = input('Enter Path: ')\n",
    "files = os.listdir(path)"
   ]
  },
  {
   "cell_type": "code",
   "execution_count": 11,
   "id": "6b905e9e",
   "metadata": {},
   "outputs": [],
   "source": [
    "for file in files:\n",
    "    filename, extension = os.path.splitext(file)\n",
    "    extension = extension[1:]\n",
    "    \n",
    "    if os.path.exists(path+'/'+extension):\n",
    "        shutil.move(path+'/'+file, path + '/' + extension + '/' + file)\n",
    "    else:\n",
    "        os.makedirs(path + '/' + extension)\n",
    "        shutil.move(path + '/' +file, path + '/' + extension + '/' + file)"
   ]
  },
  {
   "cell_type": "code",
   "execution_count": null,
   "id": "4abf4211",
   "metadata": {},
   "outputs": [],
   "source": []
  }
 ],
 "metadata": {
  "kernelspec": {
   "display_name": "Python 3 (ipykernel)",
   "language": "python",
   "name": "python3"
  },
  "language_info": {
   "codemirror_mode": {
    "name": "ipython",
    "version": 3
   },
   "file_extension": ".py",
   "mimetype": "text/x-python",
   "name": "python",
   "nbconvert_exporter": "python",
   "pygments_lexer": "ipython3",
   "version": "3.9.13"
  }
 },
 "nbformat": 4,
 "nbformat_minor": 5
}
